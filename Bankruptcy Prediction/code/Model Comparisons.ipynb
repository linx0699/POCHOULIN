{
 "cells": [
  {
   "cell_type": "markdown",
   "metadata": {},
   "source": [
    "### Data Initilization"
   ]
  },
  {
   "cell_type": "code",
   "execution_count": 1,
   "metadata": {},
   "outputs": [],
   "source": [
    "import numpy as np\n",
    "import pandas as pd\n",
    "import matplotlib.pyplot as plt\n",
    "from sklearn.model_selection import train_test_split\n",
    "from sklearn import metrics"
   ]
  },
  {
   "cell_type": "markdown",
   "metadata": {},
   "source": [
    "### Z-Score Model"
   ]
  },
  {
   "cell_type": "code",
   "execution_count": 2,
   "metadata": {},
   "outputs": [],
   "source": [
    "df_z=pd.read_csv('data.csv')"
   ]
  },
  {
   "cell_type": "code",
   "execution_count": 3,
   "metadata": {},
   "outputs": [
    {
     "data": {
      "text/plain": [
       "(6819, 96)"
      ]
     },
     "execution_count": 3,
     "metadata": {},
     "output_type": "execute_result"
    }
   ],
   "source": [
    "df_z.shape"
   ]
  },
  {
   "cell_type": "code",
   "execution_count": 4,
   "metadata": {},
   "outputs": [],
   "source": [
    "def zscore_test(df):\n",
    "    data_np=df.to_numpy()\n",
    "    X=data_np[:,1:]\n",
    "    y=data_np[:,0]\n",
    "    zscore=[' Working Capital to Total Assets',' Retained Earnings to Total Assets',\n",
    "            ' ROA(C) before interest and depreciation before interest',' Equity to Liability',' Total Asset Turnover']\n",
    "    testx=df[zscore].to_numpy()\n",
    "    beta=np.array([1.2,1.4,3.3,0.6,1.0])\n",
    "    z=testx@beta\n",
    "    for i in range(len(z)):\n",
    "        if z[i]<1.8:\n",
    "            z[i]=1\n",
    "        else:\n",
    "            z[i]=0\n",
    "    print(metrics.classification_report(y, z))\n",
    "    print('-----------------------------')\n",
    "    print(metrics.confusion_matrix(y,z))"
   ]
  },
  {
   "cell_type": "code",
   "execution_count": 5,
   "metadata": {
    "scrolled": true
   },
   "outputs": [
    {
     "name": "stdout",
     "output_type": "stream",
     "text": [
      "              precision    recall  f1-score   support\n",
      "\n",
      "         0.0       0.97      1.00      0.98      6599\n",
      "         1.0       0.00      0.00      0.00       220\n",
      "\n",
      "    accuracy                           0.97      6819\n",
      "   macro avg       0.48      0.50      0.49      6819\n",
      "weighted avg       0.94      0.97      0.95      6819\n",
      "\n",
      "-----------------------------\n",
      "[[6598    1]\n",
      " [ 220    0]]\n"
     ]
    }
   ],
   "source": [
    "zscore_test(df_z)"
   ]
  },
  {
   "cell_type": "markdown",
   "metadata": {},
   "source": [
    "### Data Initiation"
   ]
  },
  {
   "cell_type": "code",
   "execution_count": 6,
   "metadata": {},
   "outputs": [],
   "source": [
    "def removecolinear(D):\n",
    "    corr_matrix = D.corr().abs()\n",
    "    upper = corr_matrix.where(np.triu(np.ones(corr_matrix.shape), k=1).astype(bool))\n",
    "    to_drop = [column for column in upper.columns if any(upper[column] > 0.7)]\n",
    "    D.drop(to_drop, axis=1, inplace=True)\n",
    "    return D"
   ]
  },
  {
   "cell_type": "code",
   "execution_count": 7,
   "metadata": {},
   "outputs": [
    {
     "name": "stdout",
     "output_type": "stream",
     "text": [
      "variables#  = 61\n"
     ]
    }
   ],
   "source": [
    "df=pd.read_csv('data.csv')\n",
    "df=removecolinear(df)\n",
    "data_np=df.to_numpy()\n",
    "var=df.columns\n",
    "var=var.to_numpy()\n",
    "var=var[1:]\n",
    "print('variables#  =',len(var))"
   ]
  },
  {
   "cell_type": "code",
   "execution_count": 8,
   "metadata": {},
   "outputs": [],
   "source": [
    "X=data_np[:,1:]\n",
    "y=data_np[:,0]"
   ]
  },
  {
   "cell_type": "code",
   "execution_count": 9,
   "metadata": {},
   "outputs": [],
   "source": [
    "from sklearn.preprocessing import StandardScaler\n",
    "np.random.seed(123)\n",
    "X=data_np[:,1:]\n",
    "y=data_np[:,0]\n",
    "scaler = StandardScaler().fit(X)\n",
    "X=scaler.transform(X)\n",
    "X_train, X_test, y_train, y_test =train_test_split(X, y, test_size=0.2,stratify=y,random_state=123)"
   ]
  },
  {
   "cell_type": "code",
   "execution_count": 47,
   "metadata": {},
   "outputs": [
    {
     "data": {
      "text/plain": [
       "44"
      ]
     },
     "execution_count": 47,
     "metadata": {},
     "output_type": "execute_result"
    }
   ],
   "source": [
    "len(y_test[y_test==1])"
   ]
  },
  {
   "cell_type": "code",
   "execution_count": 10,
   "metadata": {},
   "outputs": [],
   "source": [
    "def evaluation(true,predict):\n",
    "    print(metrics.classification_report(true, predict))\n",
    "    print('-----------------------------------------------------')"
   ]
  },
  {
   "cell_type": "markdown",
   "metadata": {},
   "source": [
    "### Classifier Test"
   ]
  },
  {
   "cell_type": "code",
   "execution_count": 11,
   "metadata": {},
   "outputs": [],
   "source": [
    "from sklearn.neural_network import MLPClassifier\n",
    "from sklearn.neighbors import KNeighborsClassifier\n",
    "from sklearn.gaussian_process import GaussianProcessClassifier\n",
    "from sklearn.tree import DecisionTreeClassifier\n",
    "from sklearn.naive_bayes import GaussianNB\n",
    "from sklearn.linear_model import LogisticRegression\n",
    "from sklearn.ensemble import RandomForestClassifier\n",
    "from sklearn.svm import SVC"
   ]
  },
  {
   "cell_type": "code",
   "execution_count": 12,
   "metadata": {},
   "outputs": [],
   "source": [
    "def classification(X_train, X_test, y_train, y_test):\n",
    "    classifiers=[MLPClassifier(activation='logistic',max_iter=1000),KNeighborsClassifier(n_neighbors=5),\n",
    "             GaussianProcessClassifier(),DecisionTreeClassifier(),RandomForestClassifier(),\n",
    "             GaussianNB(),LogisticRegression(solver='newton-cg',max_iter=1000),SVC(kernel='rbf'),SVC(kernel='linear')]\n",
    "    names=['MLP','KNN','GPC','CART','Random Forest','Naive Bays','Logit Model','SVM','kernel SVM']\n",
    "    np.random.seed(123)\n",
    "    for i,clf in enumerate(classifiers):\n",
    "        clf.fit(X_train,y_train)\n",
    "        pred=clf.predict(X_test)\n",
    "        print('Model=',names[i])\n",
    "        evaluation(y_test,pred)"
   ]
  },
  {
   "cell_type": "code",
   "execution_count": 13,
   "metadata": {
    "scrolled": false
   },
   "outputs": [
    {
     "name": "stdout",
     "output_type": "stream",
     "text": [
      "Model= MLP\n",
      "              precision    recall  f1-score   support\n",
      "\n",
      "         0.0       0.98      0.99      0.98      1320\n",
      "         1.0       0.57      0.27      0.37        44\n",
      "\n",
      "    accuracy                           0.97      1364\n",
      "   macro avg       0.77      0.63      0.68      1364\n",
      "weighted avg       0.96      0.97      0.96      1364\n",
      "\n",
      "-----------------------------------------------------\n",
      "Model= KNN\n",
      "              precision    recall  f1-score   support\n",
      "\n",
      "         0.0       0.97      1.00      0.99      1320\n",
      "         1.0       0.90      0.20      0.33        44\n",
      "\n",
      "    accuracy                           0.97      1364\n",
      "   macro avg       0.94      0.60      0.66      1364\n",
      "weighted avg       0.97      0.97      0.97      1364\n",
      "\n",
      "-----------------------------------------------------\n",
      "Model= GPC\n",
      "              precision    recall  f1-score   support\n",
      "\n",
      "         0.0       0.97      0.99      0.98      1320\n",
      "         1.0       0.30      0.14      0.19        44\n",
      "\n",
      "    accuracy                           0.96      1364\n",
      "   macro avg       0.64      0.56      0.58      1364\n",
      "weighted avg       0.95      0.96      0.95      1364\n",
      "\n",
      "-----------------------------------------------------\n",
      "Model= CART\n",
      "              precision    recall  f1-score   support\n",
      "\n",
      "         0.0       0.97      0.97      0.97      1320\n",
      "         1.0       0.20      0.23      0.22        44\n",
      "\n",
      "    accuracy                           0.95      1364\n",
      "   macro avg       0.59      0.60      0.59      1364\n",
      "weighted avg       0.95      0.95      0.95      1364\n",
      "\n",
      "-----------------------------------------------------\n",
      "Model= Random Forest\n",
      "              precision    recall  f1-score   support\n",
      "\n",
      "         0.0       0.97      1.00      0.98      1320\n",
      "         1.0       0.62      0.11      0.19        44\n",
      "\n",
      "    accuracy                           0.97      1364\n",
      "   macro avg       0.80      0.56      0.59      1364\n",
      "weighted avg       0.96      0.97      0.96      1364\n",
      "\n",
      "-----------------------------------------------------\n",
      "Model= Naive Bays\n",
      "              precision    recall  f1-score   support\n",
      "\n",
      "         0.0       1.00      0.22      0.35      1320\n",
      "         1.0       0.04      0.98      0.08        44\n",
      "\n",
      "    accuracy                           0.24      1364\n",
      "   macro avg       0.52      0.60      0.22      1364\n",
      "weighted avg       0.97      0.24      0.35      1364\n",
      "\n",
      "-----------------------------------------------------\n",
      "Model= Logit Model\n",
      "              precision    recall  f1-score   support\n",
      "\n",
      "         0.0       0.97      0.99      0.98      1320\n",
      "         1.0       0.20      0.07      0.10        44\n",
      "\n",
      "    accuracy                           0.96      1364\n",
      "   macro avg       0.58      0.53      0.54      1364\n",
      "weighted avg       0.94      0.96      0.95      1364\n",
      "\n",
      "-----------------------------------------------------\n",
      "Model= SVM\n",
      "              precision    recall  f1-score   support\n",
      "\n",
      "         0.0       0.97      1.00      0.98      1320\n",
      "         1.0       0.00      0.00      0.00        44\n",
      "\n",
      "    accuracy                           0.97      1364\n",
      "   macro avg       0.48      0.50      0.49      1364\n",
      "weighted avg       0.94      0.97      0.95      1364\n",
      "\n",
      "-----------------------------------------------------\n"
     ]
    },
    {
     "name": "stderr",
     "output_type": "stream",
     "text": [
      "C:\\Users\\Paul\\Anaconda3\\lib\\site-packages\\sklearn\\metrics\\_classification.py:1221: UndefinedMetricWarning: Precision and F-score are ill-defined and being set to 0.0 in labels with no predicted samples. Use `zero_division` parameter to control this behavior.\n",
      "  _warn_prf(average, modifier, msg_start, len(result))\n"
     ]
    },
    {
     "name": "stdout",
     "output_type": "stream",
     "text": [
      "Model= kernel SVM\n",
      "              precision    recall  f1-score   support\n",
      "\n",
      "         0.0       0.97      1.00      0.98      1320\n",
      "         1.0       1.00      0.02      0.04        44\n",
      "\n",
      "    accuracy                           0.97      1364\n",
      "   macro avg       0.98      0.51      0.51      1364\n",
      "weighted avg       0.97      0.97      0.95      1364\n",
      "\n",
      "-----------------------------------------------------\n"
     ]
    }
   ],
   "source": [
    "classification(X_train, X_test, y_train, y_test)"
   ]
  },
  {
   "cell_type": "markdown",
   "metadata": {},
   "source": [
    "### Lasso Analysis (Feature Selection)"
   ]
  },
  {
   "cell_type": "code",
   "execution_count": 14,
   "metadata": {},
   "outputs": [],
   "source": [
    "# Import Lasso classifier\n",
    "from sklearn.linear_model import Lasso\n",
    "from sklearn.model_selection import cross_val_score,KFold\n",
    "from sklearn.metrics import f1_score"
   ]
  },
  {
   "cell_type": "code",
   "execution_count": 15,
   "metadata": {},
   "outputs": [],
   "source": [
    "def threshold(Z,threshold):\n",
    "    for i in range(len(Z)):\n",
    "        if Z[i]>=threshold:\n",
    "            Z[i]=1\n",
    "        else:\n",
    "            Z[i]=0\n",
    "    return Z"
   ]
  },
  {
   "cell_type": "code",
   "execution_count": 18,
   "metadata": {},
   "outputs": [],
   "source": [
    "def lasso_model(X_train, X_test, y_train, y_test):\n",
    "    alphas=np.linspace(0.001,0.1,100)\n",
    "    cv=KFold(n_splits=10,shuffle=True,random_state=123)\n",
    "    scores=[cross_val_score(Lasso(alpha=k),X,y,cv=cv,scoring='neg_mean_squared_error').mean() for k in alphas]\n",
    "    f1score=[]\n",
    "    for i in range(10000):\n",
    "        clf=Lasso(alpha=alphas[np.argmin(np.abs(scores))]).fit(X_train,y_train)\n",
    "        Z_lasso=threshold(clf.predict(X_test),i*0.0001)\n",
    "        k=round(f1_score(y_test,Z_lasso),2)\n",
    "        f1score.append(k)\n",
    "    plt.plot(np.linspace(0,1,10000),f1score)\n",
    "    plt.xlabel('Threshold Value')\n",
    "    plt.ylabel('F1-Score')\n",
    "    plt.title('Lasso_Threshold Value versus F-1 score')\n",
    "    tol=np.argmax(f1score)*0.0001\n",
    "    return scores,f1score,alphas[np.argmin(np.abs(scores))],tol"
   ]
  },
  {
   "cell_type": "code",
   "execution_count": 19,
   "metadata": {},
   "outputs": [
    {
     "data": {
      "image/png": "[encoded data removed]",
      "text/plain": [
       "<Figure size 432x288 with 1 Axes>"
      ]
     },
     "metadata": {
      "needs_background": "light"
     },
     "output_type": "display_data"
    }
   ],
   "source": [
    "scores_lasso,f1score_lasso,alpha_lasso,tol_lasso=lasso_model(X_train, X_test, y_train, y_test)"
   ]
  },
  {
   "cell_type": "code",
   "execution_count": 20,
   "metadata": {},
   "outputs": [
    {
     "data": {
      "text/plain": [
       "Text(0.5, 1.0, 'Lasso Regression Error Rate versus Alpha')"
      ]
     },
     "execution_count": 20,
     "metadata": {},
     "output_type": "execute_result"
    },
    {
     "data": {
      "image/png": "[encoded data removed]",
      "text/plain": [
       "<Figure size 432x288 with 1 Axes>"
      ]
     },
     "metadata": {
      "needs_background": "light"
     },
     "output_type": "display_data"
    }
   ],
   "source": [
    "plt.plot(np.linspace(0.001,0.1,100),np.abs(scores_lasso))\n",
    "plt.xlabel('Regularization Parameter Value')\n",
    "plt.ylabel('Mean Squared error')\n",
    "plt.title('Lasso Regression Error Rate versus Alpha')"
   ]
  },
  {
   "cell_type": "code",
   "execution_count": 21,
   "metadata": {},
   "outputs": [
    {
     "data": {
      "text/plain": [
       "array([0.000e+00, 1.000e-04, 2.000e-04, ..., 9.998e-01, 9.999e-01,\n",
       "       1.000e+00])"
      ]
     },
     "execution_count": 21,
     "metadata": {},
     "output_type": "execute_result"
    }
   ],
   "source": [
    "np.linspace(0,1,10001)"
   ]
  },
  {
   "cell_type": "code",
   "execution_count": 22,
   "metadata": {},
   "outputs": [
    {
     "name": "stdout",
     "output_type": "stream",
     "text": [
      "Alpha 0.003\n",
      "Tol 0.12240000000000001\n"
     ]
    }
   ],
   "source": [
    "print('Alpha',alpha_lasso)\n",
    "print('Tol',tol_lasso)"
   ]
  },
  {
   "cell_type": "code",
   "execution_count": 23,
   "metadata": {},
   "outputs": [],
   "source": [
    "for i in range(100):\n",
    "    X_train, X_test, y_train, y_test =train_test_split(X, y, test_size=0.2,stratify=y,random_state=i)\n",
    "    clf_lasso=Lasso(alpha=alpha_lasso).fit(X_train,y_train)\n",
    "    Z_lasso=threshold(clf_lasso.predict(X_test),tol_lasso)\n",
    "    f1score_1=[]\n",
    "    f1score_1.append(f1_score(y_test,Z_lasso))"
   ]
  },
  {
   "cell_type": "code",
   "execution_count": 24,
   "metadata": {},
   "outputs": [
    {
     "name": "stdout",
     "output_type": "stream",
     "text": [
      "Average F1 Score= 0.4772727272727273\n",
      "              precision    recall  f1-score   support\n",
      "\n",
      "         0.0       0.98      0.98      0.98      1320\n",
      "         1.0       0.48      0.48      0.48        44\n",
      "\n",
      "    accuracy                           0.97      1364\n",
      "   macro avg       0.73      0.73      0.73      1364\n",
      "weighted avg       0.97      0.97      0.97      1364\n",
      "\n",
      "-----------------------------------------------------\n"
     ]
    },
    {
     "data": {
      "text/plain": [
       "array([[1297,   23],\n",
       "       [  23,   21]], dtype=int64)"
      ]
     },
     "execution_count": 24,
     "metadata": {},
     "output_type": "execute_result"
    }
   ],
   "source": [
    "print('Average F1 Score=',np.mean(f1score_1))\n",
    "evaluation(y_test,Z_lasso)\n",
    "metrics.confusion_matrix(y_test,Z_lasso)"
   ]
  },
  {
   "cell_type": "code",
   "execution_count": 25,
   "metadata": {},
   "outputs": [
    {
     "name": "stdout",
     "output_type": "stream",
     "text": [
      "Selected Features= [' ROA(C) before interest and depreciation before interest'\n",
      " ' Debt ratio %' ' Borrowing dependency' ' Total Asset Turnover'\n",
      " ' Cash/Current Liability' ' Total expense/Assets'\n",
      " ' Fixed Assets to Assets' ' Liability-Assets Flag']\n",
      "Feature Value= [-0.02446671  0.02241025  0.02416127 -0.0072779   0.00705553  0.01146281\n",
      "  0.00784589  0.01683052]\n"
     ]
    }
   ],
   "source": [
    "idx=np.abs(np.round(clf_lasso.coef_,2))>0\n",
    "selected_feature=var[idx]\n",
    "print('Selected Features=',selected_feature)\n",
    "print('Feature Value=',clf_lasso.coef_[idx])"
   ]
  },
  {
   "cell_type": "code",
   "execution_count": 26,
   "metadata": {},
   "outputs": [
    {
     "name": "stdout",
     "output_type": "stream",
     "text": [
      "              precision    recall  f1-score   support\n",
      "\n",
      "         0.0       0.98      0.97      0.98      6599\n",
      "         1.0       0.36      0.46      0.41       220\n",
      "\n",
      "    accuracy                           0.96      6819\n",
      "   macro avg       0.67      0.72      0.69      6819\n",
      "weighted avg       0.96      0.96      0.96      6819\n",
      "\n",
      "-----------------------------------------------------\n"
     ]
    },
    {
     "data": {
      "text/plain": [
       "array([[6419,  180],\n",
       "       [ 118,  102]], dtype=int64)"
      ]
     },
     "execution_count": 26,
     "metadata": {},
     "output_type": "execute_result"
    }
   ],
   "source": [
    "Z_L=threshold(clf_lasso.predict(X),tol_lasso)\n",
    "evaluation(y,Z_L)\n",
    "metrics.confusion_matrix(y,Z_L)"
   ]
  },
  {
   "cell_type": "markdown",
   "metadata": {},
   "source": [
    "### Ridge Analysis"
   ]
  },
  {
   "cell_type": "code",
   "execution_count": 29,
   "metadata": {},
   "outputs": [],
   "source": [
    "from sklearn.linear_model import Ridge\n",
    "def ridge_model(X_train, X_test, y_train, y_test):\n",
    "    alphas=np.linspace(2000,3000,100)\n",
    "    cv=KFold(n_splits=10,shuffle=True,random_state=123)\n",
    "    scores=[cross_val_score(Ridge(alpha=k),X,y,cv=cv,scoring='neg_mean_squared_error').mean() for k in alphas]\n",
    "    f1score=[]\n",
    "    for i in range(10000):\n",
    "        clf=Ridge(alpha=alphas[np.argmin(np.abs(scores))]).fit(X_train,y_train)\n",
    "        Z_Ridge=threshold(clf.predict(X_test),i*0.0001)\n",
    "        k=round(f1_score(y_test,Z_Ridge),2)\n",
    "        f1score.append(k)\n",
    "    plt.plot(np.linspace(0,1,10000),f1score)\n",
    "    plt.xlabel('Threshold Value')\n",
    "    plt.ylabel('F1-Score')\n",
    "    plt.title('Ridge_Threshold Value versus F-1 score')\n",
    "    \n",
    "    tol=np.argmax(f1score)*0.0001\n",
    "    return scores,f1score,alphas[np.argmin(np.abs(scores))],tol"
   ]
  },
  {
   "cell_type": "code",
   "execution_count": 30,
   "metadata": {},
   "outputs": [
    {
     "data": {
      "image/png": "[encoded data removed]",
      "text/plain": [
       "<Figure size 432x288 with 1 Axes>"
      ]
     },
     "metadata": {
      "needs_background": "light"
     },
     "output_type": "display_data"
    }
   ],
   "source": [
    "scores_ridge,f1score_ridge,alpha_ridge,tol_ridge=ridge_model(X_train, X_test, y_train, y_test)"
   ]
  },
  {
   "cell_type": "code",
   "execution_count": 31,
   "metadata": {},
   "outputs": [
    {
     "data": {
      "text/plain": [
       "Text(0.5, 1.0, 'Ridge Regression Error Rate versus Alpha')"
      ]
     },
     "execution_count": 31,
     "metadata": {},
     "output_type": "execute_result"
    },
    {
     "data": {
      "image/png": "[encoded data removed]",
      "text/plain": [
       "<Figure size 432x288 with 1 Axes>"
      ]
     },
     "metadata": {
      "needs_background": "light"
     },
     "output_type": "display_data"
    }
   ],
   "source": [
    "plt.plot(np.linspace(2000,3000,100),np.abs(scores_ridge))\n",
    "plt.xlabel('Regularization Parameter Value')\n",
    "plt.ylabel('Mean Squared error')\n",
    "plt.title('Ridge Regression Error Rate versus Alpha')"
   ]
  },
  {
   "cell_type": "code",
   "execution_count": 32,
   "metadata": {},
   "outputs": [
    {
     "name": "stdout",
     "output_type": "stream",
     "text": [
      "Alpha 2565.6565656565654\n",
      "Tol 0.10110000000000001\n"
     ]
    }
   ],
   "source": [
    "print('Alpha',alpha_ridge)\n",
    "print('Tol',tol_ridge)"
   ]
  },
  {
   "cell_type": "code",
   "execution_count": 33,
   "metadata": {},
   "outputs": [
    {
     "name": "stdout",
     "output_type": "stream",
     "text": [
      "Average F1 Score= 0.5172413793103449\n",
      "              precision    recall  f1-score   support\n",
      "\n",
      "         0.0       0.99      0.97      0.98      1320\n",
      "         1.0       0.42      0.68      0.52        44\n",
      "\n",
      "    accuracy                           0.96      1364\n",
      "   macro avg       0.70      0.82      0.75      1364\n",
      "weighted avg       0.97      0.96      0.96      1364\n",
      "\n",
      "-----------------------------------------------------\n"
     ]
    },
    {
     "data": {
      "text/plain": [
       "array([[1278,   42],\n",
       "       [  14,   30]], dtype=int64)"
      ]
     },
     "execution_count": 33,
     "metadata": {},
     "output_type": "execute_result"
    }
   ],
   "source": [
    "for i in range(100):\n",
    "    X_train, X_test, y_train, y_test =train_test_split(X, y, test_size=0.2,stratify=y,random_state=i)\n",
    "    clf_ridge=Ridge(alpha=alpha_ridge).fit(X_train,y_train)\n",
    "    Z_Ridge=threshold(clf_ridge.predict(X_test),tol_ridge)\n",
    "    f1score_2=[]\n",
    "    f1score_2.append(f1_score(y_test,Z_Ridge))\n",
    "print('Average F1 Score=',np.mean(f1score_2))\n",
    "evaluation(y_test,Z_Ridge)\n",
    "metrics.confusion_matrix(y_test,Z_Ridge)"
   ]
  },
  {
   "cell_type": "code",
   "execution_count": 34,
   "metadata": {},
   "outputs": [
    {
     "name": "stdout",
     "output_type": "stream",
     "text": [
      "              precision    recall  f1-score   support\n",
      "\n",
      "         0.0       0.99      0.95      0.97      6599\n",
      "         1.0       0.30      0.61      0.41       220\n",
      "\n",
      "    accuracy                           0.94      6819\n",
      "   macro avg       0.65      0.78      0.69      6819\n",
      "weighted avg       0.96      0.94      0.95      6819\n",
      "\n",
      "-----------------------------------------------------\n"
     ]
    },
    {
     "data": {
      "text/plain": [
       "array([[6290,  309],\n",
       "       [  85,  135]], dtype=int64)"
      ]
     },
     "execution_count": 34,
     "metadata": {},
     "output_type": "execute_result"
    }
   ],
   "source": [
    "Z_R=threshold(clf_ridge.predict(X),tol_ridge)\n",
    "evaluation(y,Z_R)\n",
    "metrics.confusion_matrix(y,Z_R)"
   ]
  },
  {
   "cell_type": "markdown",
   "metadata": {},
   "source": [
    "### Elastic Net"
   ]
  },
  {
   "cell_type": "code",
   "execution_count": 35,
   "metadata": {},
   "outputs": [],
   "source": [
    "from sklearn.linear_model import ElasticNet\n",
    "def ElasticNet_model(X_train, X_test, y_train, y_test):\n",
    "    alphas=np.linspace(0.001,0.1,100)\n",
    "    cv=KFold(n_splits=10,shuffle=True,random_state=123)\n",
    "    scores=[cross_val_score(ElasticNet(alpha=k),X,y,cv=cv,scoring='neg_mean_squared_error').mean() for k in alphas]\n",
    "    f1score=[]\n",
    "    for i in range(10000):\n",
    "        clf=ElasticNet(alpha=alphas[np.argmin(np.abs(scores))]).fit(X_train,y_train)\n",
    "        Z_ElasticNet=threshold(clf.predict(X_test),i*0.0001)\n",
    "        k=round(f1_score(y_test,Z_ElasticNet),2)\n",
    "        f1score.append(k)\n",
    "    plt.plot(np.linspace(0,1,10000),f1score)\n",
    "    plt.xlabel('Threshold Value')\n",
    "    plt.ylabel('F1-Score')\n",
    "    plt.title('Elastic Net_Threshold Value versus F-1 score')\n",
    "    tol=np.argmax(f1score)*0.0001\n",
    "    return scores,f1score,alphas[np.argmin(np.abs(scores))],tol"
   ]
  },
  {
   "cell_type": "code",
   "execution_count": 36,
   "metadata": {
    "scrolled": false
   },
   "outputs": [
    {
     "name": "stdout",
     "output_type": "stream",
     "text": [
      "Average F1 Score= 0.5555555555555556\n",
      "              precision    recall  f1-score   support\n",
      "\n",
      "         0.0       0.99      0.97      0.98      1320\n",
      "         1.0       0.47      0.68      0.56        44\n",
      "\n",
      "    accuracy                           0.96      1364\n",
      "   macro avg       0.73      0.83      0.77      1364\n",
      "weighted avg       0.97      0.96      0.97      1364\n",
      "\n",
      "-----------------------------------------------------\n"
     ]
    },
    {
     "data": {
      "text/plain": [
       "array([[1286,   34],\n",
       "       [  14,   30]], dtype=int64)"
      ]
     },
     "execution_count": 36,
     "metadata": {},
     "output_type": "execute_result"
    },
    {
     "data": {
      "image/png": "[encoded data removed]",
      "text/plain": [
       "<Figure size 432x288 with 1 Axes>"
      ]
     },
     "metadata": {
      "needs_background": "light"
     },
     "output_type": "display_data"
    }
   ],
   "source": [
    "scores_EN,f1score_EN,alpha_EN,tol_EN=ElasticNet_model(X_train, X_test, y_train, y_test)\n",
    "for i in range(100):\n",
    "    X_train, X_test, y_train, y_test =train_test_split(X, y, test_size=0.2,stratify=y,random_state=i)\n",
    "    clf_EN=ElasticNet(alpha=alpha_EN).fit(X_train,y_train)\n",
    "    Z_ElasticNet=threshold(clf_EN.predict(X_test),tol_EN)\n",
    "    f1score_3=[]\n",
    "    f1score_3.append(f1_score(y_test,Z_ElasticNet))\n",
    "print('Average F1 Score=',np.mean(f1score_3))\n",
    "evaluation(y_test,Z_ElasticNet)\n",
    "metrics.confusion_matrix(y_test,Z_ElasticNet)"
   ]
  },
  {
   "cell_type": "code",
   "execution_count": 37,
   "metadata": {},
   "outputs": [
    {
     "data": {
      "text/plain": [
       "Text(0.5, 1.0, 'Ridge Regression Error Rate versus Alpha')"
      ]
     },
     "execution_count": 37,
     "metadata": {},
     "output_type": "execute_result"
    },
    {
     "data": {
      "image/png": "[encoded data removed]",
      "text/plain": [
       "<Figure size 432x288 with 1 Axes>"
      ]
     },
     "metadata": {
      "needs_background": "light"
     },
     "output_type": "display_data"
    }
   ],
   "source": [
    "plt.plot(np.linspace(0.001,0.1,100),np.abs(scores_EN))\n",
    "plt.xlabel('Regularization Parameter Value')\n",
    "plt.ylabel('Mean Squared error')\n",
    "plt.title('Ridge Regression Error Rate versus Alpha')"
   ]
  },
  {
   "cell_type": "code",
   "execution_count": 38,
   "metadata": {},
   "outputs": [
    {
     "name": "stdout",
     "output_type": "stream",
     "text": [
      "Alpha 0.006\n",
      "Tol 0.1075\n"
     ]
    }
   ],
   "source": [
    "print('Alpha',alpha_EN)\n",
    "print('Tol',tol_EN)"
   ]
  },
  {
   "cell_type": "code",
   "execution_count": 39,
   "metadata": {},
   "outputs": [
    {
     "name": "stdout",
     "output_type": "stream",
     "text": [
      "Selected Features= [' ROA(C) before interest and depreciation before interest'\n",
      " ' Debt ratio %' ' Borrowing dependency' ' Total Asset Turnover'\n",
      " ' Cash/Current Liability' ' Total expense/Assets'\n",
      " ' Fixed Assets to Assets' ' Liability-Assets Flag']\n",
      "Feature Value= [-0.02441182  0.0223063   0.02408567 -0.00723266  0.0070422   0.01146069\n",
      "  0.00783226  0.01675808]\n",
      "Intercept= 0.03147494329278679\n"
     ]
    }
   ],
   "source": [
    "idx_EN=np.abs(np.round(clf_EN.coef_,2))>0\n",
    "selected_feature=var[idx_EN]\n",
    "print('Selected Features=',selected_feature)\n",
    "print('Feature Value=',clf_EN.coef_[idx_EN])\n",
    "print('Intercept=',clf_EN.intercept_)"
   ]
  },
  {
   "cell_type": "code",
   "execution_count": 40,
   "metadata": {},
   "outputs": [
    {
     "name": "stdout",
     "output_type": "stream",
     "text": [
      "              precision    recall  f1-score   support\n",
      "\n",
      "         0.0       0.99      0.96      0.97      6599\n",
      "         1.0       0.32      0.60      0.42       220\n",
      "\n",
      "    accuracy                           0.95      6819\n",
      "   macro avg       0.65      0.78      0.70      6819\n",
      "weighted avg       0.96      0.95      0.95      6819\n",
      "\n",
      "-----------------------------------------------------\n"
     ]
    },
    {
     "data": {
      "text/plain": [
       "array([[6322,  277],\n",
       "       [  88,  132]], dtype=int64)"
      ]
     },
     "execution_count": 40,
     "metadata": {},
     "output_type": "execute_result"
    }
   ],
   "source": [
    "Z_EN=threshold(clf_EN.predict(X),tol_EN)\n",
    "evaluation(y,Z_EN)\n",
    "metrics.confusion_matrix(y,Z_EN)"
   ]
  },
  {
   "cell_type": "code",
   "execution_count": 41,
   "metadata": {},
   "outputs": [],
   "source": [
    "variable_EN=pd.DataFrame(data=[0])\n",
    "V=clf_EN.coef_[clf_EN.coef_!=0]\n",
    "for name,value in zip(var,V):\n",
    "    variable_EN[name]=value\n",
    "del variable_EN[0]"
   ]
  },
  {
   "cell_type": "code",
   "execution_count": 42,
   "metadata": {},
   "outputs": [
    {
     "data": {
      "text/html": [
       "<div>\n",
       "<style scoped>\n",
       "    .dataframe tbody tr th:only-of-type {\n",
       "        vertical-align: middle;\n",
       "    }\n",
       "\n",
       "    .dataframe tbody tr th {\n",
       "        vertical-align: top;\n",
       "    }\n",
       "\n",
       "    .dataframe thead th {\n",
       "        text-align: right;\n",
       "    }\n",
       "</style>\n",
       "<table border=\"1\" class=\"dataframe\">\n",
       "  <thead>\n",
       "    <tr style=\"text-align: right;\">\n",
       "      <th></th>\n",
       "      <th>ROA(C) before interest and depreciation before interest</th>\n",
       "      <th>Operating Gross Margin</th>\n",
       "      <th>Operating Profit Rate</th>\n",
       "      <th>Non-industry income and expenditure/revenue</th>\n",
       "      <th>Operating Expense Rate</th>\n",
       "      <th>Research and development expense rate</th>\n",
       "      <th>Cash flow rate</th>\n",
       "      <th>Interest-bearing debt interest rate</th>\n",
       "      <th>Tax rate (A)</th>\n",
       "      <th>Net Value Per Share (B)</th>\n",
       "      <th>...</th>\n",
       "      <th>Revenue Per Share (Yuan ¥)</th>\n",
       "      <th>Realized Sales Gross Profit Growth Rate</th>\n",
       "      <th>Operating Profit Growth Rate</th>\n",
       "      <th>After-tax Net Profit Growth Rate</th>\n",
       "      <th>Continuous Net Profit Growth Rate</th>\n",
       "      <th>Total Asset Growth Rate</th>\n",
       "      <th>Net Value Growth Rate</th>\n",
       "      <th>Total Asset Return Growth Rate Ratio</th>\n",
       "      <th>Cash Reinvestment %</th>\n",
       "      <th>Current Ratio</th>\n",
       "    </tr>\n",
       "  </thead>\n",
       "  <tbody>\n",
       "    <tr>\n",
       "      <th>0</th>\n",
       "      <td>-0.024412</td>\n",
       "      <td>-0.001269</td>\n",
       "      <td>0.002604</td>\n",
       "      <td>-0.004748</td>\n",
       "      <td>-0.000218</td>\n",
       "      <td>0.022306</td>\n",
       "      <td>0.024086</td>\n",
       "      <td>-0.007233</td>\n",
       "      <td>-0.001842</td>\n",
       "      <td>0.00347</td>\n",
       "      <td>...</td>\n",
       "      <td>-0.001632</td>\n",
       "      <td>-0.001341</td>\n",
       "      <td>0.007042</td>\n",
       "      <td>0.000308</td>\n",
       "      <td>0.011461</td>\n",
       "      <td>-0.001993</td>\n",
       "      <td>0.007832</td>\n",
       "      <td>0.002581</td>\n",
       "      <td>0.016758</td>\n",
       "      <td>0.000921</td>\n",
       "    </tr>\n",
       "  </tbody>\n",
       "</table>\n",
       "<p>1 rows × 21 columns</p>\n",
       "</div>"
      ],
      "text/plain": [
       "    ROA(C) before interest and depreciation before interest  \\\n",
       "0                                          -0.024412          \n",
       "\n",
       "    Operating Gross Margin   Operating Profit Rate  \\\n",
       "0                -0.001269                0.002604   \n",
       "\n",
       "    Non-industry income and expenditure/revenue   Operating Expense Rate  \\\n",
       "0                                     -0.004748                -0.000218   \n",
       "\n",
       "    Research and development expense rate   Cash flow rate  \\\n",
       "0                                0.022306         0.024086   \n",
       "\n",
       "    Interest-bearing debt interest rate   Tax rate (A)  \\\n",
       "0                             -0.007233      -0.001842   \n",
       "\n",
       "    Net Value Per Share (B)  ...   Revenue Per Share (Yuan ¥)  \\\n",
       "0                   0.00347  ...                    -0.001632   \n",
       "\n",
       "    Realized Sales Gross Profit Growth Rate   Operating Profit Growth Rate  \\\n",
       "0                                 -0.001341                       0.007042   \n",
       "\n",
       "    After-tax Net Profit Growth Rate   Continuous Net Profit Growth Rate  \\\n",
       "0                           0.000308                            0.011461   \n",
       "\n",
       "    Total Asset Growth Rate   Net Value Growth Rate  \\\n",
       "0                 -0.001993                0.007832   \n",
       "\n",
       "    Total Asset Return Growth Rate Ratio   Cash Reinvestment %   Current Ratio  \n",
       "0                               0.002581              0.016758        0.000921  \n",
       "\n",
       "[1 rows x 21 columns]"
      ]
     },
     "metadata": {},
     "output_type": "display_data"
    }
   ],
   "source": [
    "display(variable_EN)"
   ]
  },
  {
   "cell_type": "code",
   "execution_count": 48,
   "metadata": {},
   "outputs": [],
   "source": [
    "variable_EN.to_csv('export.csv')"
   ]
  }
 ],
 "metadata": {
  "kernelspec": {
   "display_name": "Python 3",
   "language": "python",
   "name": "python3"
  },
  "language_info": {
   "codemirror_mode": {
    "name": "ipython",
    "version": 3
   },
   "file_extension": ".py",
   "mimetype": "text/x-python",
   "name": "python",
   "nbconvert_exporter": "python",
   "pygments_lexer": "ipython3",
   "version": "3.8.5"
  }
 },
 "nbformat": 4,
 "nbformat_minor": 5
}
